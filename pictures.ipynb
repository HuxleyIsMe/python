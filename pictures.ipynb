{
 "cells": [
  {
   "cell_type": "markdown",
   "id": "8fcd72c8-3bf4-4afc-a453-65b702d02607",
   "metadata": {},
   "source": [
    "<img src=\"./sq.jpg\"/>\n"
   ]
  },
  {
   "cell_type": "markdown",
   "id": "147c074b-d25d-430a-9814-16b97a1d4777",
   "metadata": {},
   "source": [
    "### Turn into an array por favor"
   ]
  },
  {
   "cell_type": "code",
   "execution_count": 35,
   "id": "a739f53e-191c-4464-b6ce-c45f0d4513a1",
   "metadata": {},
   "outputs": [
    {
     "name": "stdout",
     "output_type": "stream",
     "text": [
      "<class 'numpy.ndarray'>\n"
     ]
    }
   ],
   "source": [
    "from matplotlib.image import imread\n",
    "\n",
    "squi = imread(\"./sq.jpg\")\n",
    "\n",
    "print(type(squi))"
   ]
  },
  {
   "cell_type": "code",
   "execution_count": 38,
   "id": "135b7979-1515-4233-ae2b-ff482f724f51",
   "metadata": {},
   "outputs": [
    {
     "data": {
      "text/plain": [
       "array([41, 53,  5], dtype=uint8)"
      ]
     },
     "execution_count": 38,
     "metadata": {},
     "output_type": "execute_result"
    }
   ],
   "source": [
    "squi[0][0]"
   ]
  },
  {
   "cell_type": "code",
   "execution_count": null,
   "id": "77860102-2cff-40b5-a79d-1ec6297a6bd7",
   "metadata": {},
   "outputs": [],
   "source": []
  }
 ],
 "metadata": {
  "kernelspec": {
   "display_name": "Python 3 (ipykernel)",
   "language": "python",
   "name": "python3"
  },
  "language_info": {
   "codemirror_mode": {
    "name": "ipython",
    "version": 3
   },
   "file_extension": ".py",
   "mimetype": "text/x-python",
   "name": "python",
   "nbconvert_exporter": "python",
   "pygments_lexer": "ipython3",
   "version": "3.9.6"
  }
 },
 "nbformat": 4,
 "nbformat_minor": 5
}
