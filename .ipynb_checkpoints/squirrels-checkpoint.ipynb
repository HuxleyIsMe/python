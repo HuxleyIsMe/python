{
 "cells": [
  {
   "cell_type": "code",
   "execution_count": 16,
   "id": "eff2d97f-8b4f-44e0-9aaf-1a9d699b367d",
   "metadata": {},
   "outputs": [
    {
     "name": "stderr",
     "output_type": "stream",
     "text": [
      "<>:7: SyntaxWarning: list indices must be integers or slices, not str; perhaps you missed a comma?\n",
      "<>:7: SyntaxWarning: list indices must be integers or slices, not str; perhaps you missed a comma?\n",
      "/var/folders/qp/ydgx09_150sb1jbcxct3jlth0000gn/T/ipykernel_71241/3339466540.py:7: SyntaxWarning: list indices must be integers or slices, not str; perhaps you missed a comma?\n",
      "  df.groupby(['Primary Fur Color']['Highlight Fur Color']).count()\n",
      "/var/folders/qp/ydgx09_150sb1jbcxct3jlth0000gn/T/ipykernel_71241/3339466540.py:7: SyntaxWarning: list indices must be integers or slices, not str; perhaps you missed a comma?\n",
      "  df.groupby(['Primary Fur Color']['Highlight Fur Color']).count()\n",
      "/var/folders/qp/ydgx09_150sb1jbcxct3jlth0000gn/T/ipykernel_71241/3339466540.py:7: SyntaxWarning: list indices must be integers or slices, not str; perhaps you missed a comma?\n",
      "  df.groupby(['Primary Fur Color']['Highlight Fur Color']).count()\n"
     ]
    },
    {
     "ename": "TypeError",
     "evalue": "list indices must be integers or slices, not str",
     "output_type": "error",
     "traceback": [
      "\u001b[0;31m---------------------------------------------------------------------------\u001b[0m",
      "\u001b[0;31mTypeError\u001b[0m                                 Traceback (most recent call last)",
      "Cell \u001b[0;32mIn[16], line 7\u001b[0m\n\u001b[1;32m      3\u001b[0m squirrels \u001b[38;5;241m=\u001b[39m pd\u001b[38;5;241m.\u001b[39mread_csv(\u001b[38;5;124m\"\u001b[39m\u001b[38;5;124msquirrels.csv\u001b[39m\u001b[38;5;124m\"\u001b[39m);\n\u001b[1;32m      5\u001b[0m df \u001b[38;5;241m=\u001b[39m pd\u001b[38;5;241m.\u001b[39mDataFrame(squirrels)\n\u001b[0;32m----> 7\u001b[0m df\u001b[38;5;241m.\u001b[39mgroupby(\u001b[43m[\u001b[49m\u001b[38;5;124;43m'\u001b[39;49m\u001b[38;5;124;43mPrimary Fur Color\u001b[39;49m\u001b[38;5;124;43m'\u001b[39;49m\u001b[43m]\u001b[49m\u001b[43m[\u001b[49m\u001b[38;5;124;43m'\u001b[39;49m\u001b[38;5;124;43mHighlight Fur Color\u001b[39;49m\u001b[38;5;124;43m'\u001b[39;49m\u001b[43m]\u001b[49m)\u001b[38;5;241m.\u001b[39mcount()\n",
      "\u001b[0;31mTypeError\u001b[0m: list indices must be integers or slices, not str"
     ]
    }
   ],
   "source": [
    "import pandas as pd;\n",
    "\n",
    "squirrels = pd.read_csv(\"squirrels.csv\");\n",
    "\n",
    "df = pd.DataFrame(squirrels)\n",
    "\n",
    "df.groupby(['Primary Fur Color']['Highlight Fur Color'\n",
    "]).count()\n",
    "\n",
    "\n",
    "\n",
    "\n"
   ]
  },
  {
   "cell_type": "code",
   "execution_count": null,
   "id": "fc0e619b-8a73-4837-a22c-f602514a4f70",
   "metadata": {},
   "outputs": [],
   "source": []
  },
  {
   "cell_type": "code",
   "execution_count": null,
   "id": "8afd6392-b10b-4b98-8701-150fec5ff00e",
   "metadata": {},
   "outputs": [],
   "source": []
  },
  {
   "cell_type": "code",
   "execution_count": null,
   "id": "7b0ddc86-8d6e-497e-930f-98ec4e129556",
   "metadata": {},
   "outputs": [],
   "source": []
  }
 ],
 "metadata": {
  "kernelspec": {
   "display_name": "Python 3 (ipykernel)",
   "language": "python",
   "name": "python3"
  },
  "language_info": {
   "codemirror_mode": {
    "name": "ipython",
    "version": 3
   },
   "file_extension": ".py",
   "mimetype": "text/x-python",
   "name": "python",
   "nbconvert_exporter": "python",
   "pygments_lexer": "ipython3",
   "version": "3.9.6"
  }
 },
 "nbformat": 4,
 "nbformat_minor": 5
}
